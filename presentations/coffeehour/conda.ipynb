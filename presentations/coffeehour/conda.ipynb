{
 "cells": [
  {
   "cell_type": "markdown",
   "metadata": {
    "slideshow": {
     "slide_type": "slide"
    }
   },
   "source": [
    "# Conda Installs\n",
    "\n",
    "Presented by: Jordan Hayes (HPCC)"
   ]
  },
  {
   "cell_type": "markdown",
   "metadata": {
    "slideshow": {
     "slide_type": "slide"
    }
   },
   "source": [
    "## Summary\n",
    "\n",
    "* Why Conda\n",
    "    * Software Challenges\n",
    "    * Solutions\n",
    "* Configure\n",
    "    * Virtual Environments\n",
    "* Install Examples\n",
    "    * Pandas\n",
    "    * FastQC\n",
    "    * Tensorflow\n",
    "    \n",
    "<hr/>"
   ]
  },
  {
   "cell_type": "markdown",
   "metadata": {
    "slideshow": {
     "slide_type": "slide"
    }
   },
   "source": [
    "## Why Conda: Software Challenges\n",
    "\n",
    "* Non-Root access\n",
    "* Dependency conflicts\n",
    "* Sharable\n",
    "* Easy to execute\n",
    "\n",
    "<hr/>"
   ]
  },
  {
   "cell_type": "markdown",
   "metadata": {
    "slideshow": {
     "slide_type": "slide"
    }
   },
   "source": [
    "## Why Conda: Solutions\n",
    "\n",
    "* Use non-root user\n",
    "* Installs in separate environments\n",
    "* Installs are modular and easy to share\n",
    "* Easy to load/unload environments\n",
    "\n",
    "<hr/>"
   ]
  },
  {
   "cell_type": "markdown",
   "metadata": {
    "slideshow": {
     "slide_type": "slide"
    }
   },
   "source": [
    "## Configure: Locations\n",
    "\n",
    "Create the file `~/.condarc` in your home, with the following content:\n",
    "\n",
    "```\n",
    "channels:\n",
    "  - defaults\n",
    "pkgs_dirs:\n",
    "  - ~/bigdata/.conda/pkgs\n",
    "envs_dirs:\n",
    "  - ~/bigdata/.conda/envs\n",
    "auto_activate_base: false\n",
    "```\n",
    "\n",
    "https://hpcc.ucr.edu/manuals/hpc_cluster/package_manage/#virtual-environments\n",
    "\n",
    "<hr />"
   ]
  },
  {
   "cell_type": "markdown",
   "metadata": {
    "slideshow": {
     "slide_type": "slide"
    }
   },
   "source": [
    "## Configure: Virtual Environment\n",
    "\n",
    "First, lets request a compute node, since running on the head nodes would be slow:\n",
    "\n",
    "```\n",
    "srun -p short -c 2 --mem=10g --pty bash -l\n",
    "```"
   ]
  },
  {
   "cell_type": "markdown",
   "metadata": {
    "slideshow": {
     "slide_type": "fragment"
    }
   },
   "source": [
    "Create conda virtual environment for `pandasEnv`, since pandas is a python pacakge, we will pre install Python:"
   ]
  },
  {
   "cell_type": "code",
   "execution_count": null,
   "metadata": {
    "slideshow": {
     "slide_type": "-"
    }
   },
   "outputs": [],
   "source": [
    "conda create -y -n pandasEnv python=3.6.4"
   ]
  },
  {
   "cell_type": "markdown",
   "metadata": {
    "slideshow": {
     "slide_type": "fragment"
    }
   },
   "source": [
    "Activate pandasEnv virtual environment:"
   ]
  },
  {
   "cell_type": "code",
   "execution_count": null,
   "metadata": {
    "slideshow": {
     "slide_type": "-"
    }
   },
   "outputs": [],
   "source": [
    "conda activate pandasEnv"
   ]
  },
  {
   "cell_type": "markdown",
   "metadata": {},
   "source": [
    "<hr/>"
   ]
  },
  {
   "cell_type": "markdown",
   "metadata": {
    "slideshow": {
     "slide_type": "slide"
    }
   },
   "source": [
    "## Install Examples: Pandas\n",
    "\n",
    "Now that we have a virtual environment, we can install packages within it. Visit anaconda website to search for a pagckage:\n",
    "\n",
    "[https://anaconda.org/](https://anaconda.org/)\n"
   ]
  },
  {
   "cell_type": "markdown",
   "metadata": {
    "slideshow": {
     "slide_type": "fragment"
    }
   },
   "source": [
    "After you find the package, click on the name of the package to see install command."
   ]
  },
  {
   "cell_type": "code",
   "execution_count": null,
   "metadata": {
    "slideshow": {
     "slide_type": "-"
    }
   },
   "outputs": [],
   "source": [
    "#conda install -y -c anaconda pandas\n",
    "conda install -y -n pandasEnv -c anaconda pandas"
   ]
  },
  {
   "cell_type": "markdown",
   "metadata": {},
   "source": [
    "<hr/>"
   ]
  },
  {
   "cell_type": "markdown",
   "metadata": {
    "slideshow": {
     "slide_type": "slide"
    }
   },
   "source": [
    "## Install Examples: FastQC\n",
    "\n",
    "Same proceedure as before:\n",
    "\n",
    "1. Create `fastqcEnv` virtual environment\n",
    "2. Activate `fastqcEnv` virtual environment\n",
    "3. Look up `fastqc` on Anaconda\n",
    "4. Install `fastqc` package\n",
    "5. Deactivate `fastqcEnv` virtual environment"
   ]
  },
  {
   "cell_type": "code",
   "execution_count": null,
   "metadata": {
    "slideshow": {
     "slide_type": "fragment"
    }
   },
   "outputs": [],
   "source": [
    "# Create virutal environment\n",
    "conda create -y -n fastqcEnv\n",
    "\n",
    "# Activate virutal environment\n",
    "conda activate fastqcEnv\n",
    "\n",
    "# Install fastqc\n",
    "conda install -y -c bioconda fastqc\n",
    "\n",
    "# Deactivate virtual environment\n",
    "conda deactivate"
   ]
  },
  {
   "cell_type": "markdown",
   "metadata": {},
   "source": [
    "<hr/>"
   ]
  },
  {
   "cell_type": "markdown",
   "metadata": {
    "slideshow": {
     "slide_type": "slide"
    }
   },
   "source": [
    "## Install Examples: Tensorflow\n",
    "\n",
    "Same proceedure as before:\n",
    "\n",
    "1. Create `tensorflowEnv` virtual environment\n",
    "2. Activate `tensorflowEnv` virtual environment\n",
    "3. Look up `tensorflow` on Anaconda\n",
    "4. Install `tensorflow` package\n",
    "5. Deactivate `tensorflowEnv` virtual environment"
   ]
  },
  {
   "cell_type": "code",
   "execution_count": null,
   "metadata": {
    "slideshow": {
     "slide_type": "fragment"
    }
   },
   "outputs": [],
   "source": [
    "# Create virtual environment\n",
    "conda create -y -n tensorflowEnv\n",
    "\n",
    "# Activate virtual environment\n",
    "conda activate tensorflow\n",
    "\n",
    "# Install tensorflow\n",
    "conda install -y -n tensorflowEnv -c conda-forge tensorflow\n",
    "\n",
    "# Deactivate virtual environment\n",
    "conda deactivate"
   ]
  },
  {
   "cell_type": "markdown",
   "metadata": {},
   "source": [
    "<hr/>"
   ]
  },
  {
   "cell_type": "markdown",
   "metadata": {
    "slideshow": {
     "slide_type": "slide"
    }
   },
   "source": [
    "## Install Examples: Script\n",
    "\n",
    "After the installs have completed, you may want to use 1 (or more) conda virtual environments within a job/script:"
   ]
  },
  {
   "cell_type": "code",
   "execution_count": null,
   "metadata": {},
   "outputs": [],
   "source": [
    "#!/bin/bash -l\n",
    "\n",
    "#SBATCH -p short\n",
    "#SBATCH -c 2\n",
    "#SBATCH --mem=10gb\n",
    "#SBATCH --time=10:00\n",
    "#SBATCH -J \"Conda Demo\"\n",
    "\n",
    "# Already loaded by default\n",
    "module load miniconda2\n",
    "\n",
    "#### pandasEnv ####\n",
    "# Activate virtual environment\n",
    "conda activate pandasEnv\n",
    "# Show file path to where pandas is installed\n",
    "python -c 'import pandas; print(pandas.__file__)'\n",
    "# Deactivate virtual environment\n",
    "conda deactivate\n",
    "\n",
    "#### fastqcEnv ####\n",
    "# Activate virtual environment\n",
    "conda activate fastqcEnv\n",
    "# Run help\n",
    "fastqc --help\n",
    "# Deactivate virtual environment\n",
    "conda deactivate\n",
    "\n",
    "#### tensorflowEnv ####\n",
    "# Activate virtual environment\n",
    "conda activate tensorflowEnv\n",
    "# Add a scalar and a list\n",
    "python -c 'import tensorflow as tf; x = [1, 2, 3, 4, 5]; y = 1; print(tf.add(x, y))'\n",
    "# Deactivate virtual environment\n",
    "conda deactivate"
   ]
  }
 ],
 "metadata": {
  "celltoolbar": "Slideshow",
  "kernelspec": {
   "display_name": "Bash",
   "language": "bash",
   "name": "bash"
  },
  "language_info": {
   "codemirror_mode": "shell",
   "file_extension": ".sh",
   "mimetype": "text/x-sh",
   "name": "bash"
  },
  "rise": {
   "scroll": true
  }
 },
 "nbformat": 4,
 "nbformat_minor": 4
}
